{
 "cells": [
  {
   "cell_type": "code",
   "execution_count": null,
   "id": "00bd28d9",
   "metadata": {},
   "outputs": [],
   "source": [
    "# ques1\n",
    "# EXCEPTION is the condition that interrupt the normal flow of the program\n",
    "# both error and the exceptions are a type of runtime error\n",
    "# syntax error occurs when the structure of the progarm does not follow the rules of the programming language"
   ]
  },
  {
   "cell_type": "code",
   "execution_count": 4,
   "id": "782c66e4",
   "metadata": {},
   "outputs": [
    {
     "ename": "ZeroDivisionError",
     "evalue": "division by zero",
     "output_type": "error",
     "traceback": [
      "\u001b[1;31m---------------------------------------------------------------------------\u001b[0m",
      "\u001b[1;31mZeroDivisionError\u001b[0m                         Traceback (most recent call last)",
      "Input \u001b[1;32mIn [4]\u001b[0m, in \u001b[0;36m<cell line: 4>\u001b[1;34m()\u001b[0m\n\u001b[0;32m      1\u001b[0m \u001b[38;5;66;03m# ques1\u001b[39;00m\n\u001b[0;32m      2\u001b[0m \u001b[38;5;66;03m# when the exception is not handled, the program abnormally rweminates and an exception message is delivered in the console\u001b[39;00m\n\u001b[1;32m----> 4\u001b[0m \u001b[38;5;28mprint\u001b[39m(\u001b[38;5;241;43m2\u001b[39;49m\u001b[38;5;241;43m/\u001b[39;49m\u001b[38;5;241;43m0\u001b[39;49m)\n\u001b[0;32m      5\u001b[0m \u001b[38;5;28mprint\u001b[39m(\u001b[38;5;124m\"\u001b[39m\u001b[38;5;124mprogram ended\u001b[39m\u001b[38;5;124m\"\u001b[39m)\n",
      "\u001b[1;31mZeroDivisionError\u001b[0m: division by zero"
     ]
    }
   ],
   "source": [
    "# ques1\n",
    "# when the exception is not handled, the program abnormally rweminates and an exception message is delivered in the console\n",
    "\n",
    "print(2/0)\n",
    "print(\"program ended\")"
   ]
  },
  {
   "cell_type": "code",
   "execution_count": 5,
   "id": "e6f0f09f",
   "metadata": {},
   "outputs": [],
   "source": [
    "# the above program abnormally terminates the exception message is printed in the console"
   ]
  },
  {
   "cell_type": "code",
   "execution_count": 6,
   "id": "1b6e0bd9",
   "metadata": {},
   "outputs": [
    {
     "name": "stdout",
     "output_type": "stream",
     "text": [
      "division by zero\n"
     ]
    }
   ],
   "source": [
    "# ques3\n",
    "# the try and except bloc is used to catch and handle exception in python\n",
    "try:\n",
    "    print(3/0)\n",
    "except Exception as e:\n",
    "    print(e)"
   ]
  },
  {
   "cell_type": "code",
   "execution_count": 7,
   "id": "e001086c",
   "metadata": {},
   "outputs": [],
   "source": [
    "# ques4\n",
    "# try statement is used for testing a block of code in python\n",
    "# else block executes only when try block has been successfully executed\n",
    "# finally block executes with out any condition irrespective of weather the try block has been successfully terminated or not\n",
    "# raise statement is used for custom raising a error"
   ]
  },
  {
   "cell_type": "code",
   "execution_count": 1,
   "id": "f06d74e7",
   "metadata": {},
   "outputs": [],
   "source": [
    "# example\n",
    "class Error(Exception):\n",
    "    def __init__(self , msg):\n",
    "        self.msg = msg\n",
    "\n",
    "class dobException(Error):\n",
    "    pass\n"
   ]
  },
  {
   "cell_type": "code",
   "execution_count": 8,
   "id": "0671079b",
   "metadata": {},
   "outputs": [
    {
     "name": "stdout",
     "output_type": "stream",
     "text": [
      "Enter your age21\n",
      "the age is valid\n",
      "try block ran succussfully\n",
      "program ended\n"
     ]
    }
   ],
   "source": [
    "age = int(input(\"Enter your age\"))\n",
    "\n",
    "try:\n",
    "    if age <= 30 and age >= 20:\n",
    "        print(\"the age is valid\")\n",
    "    else :\n",
    "        raise dobException(\"the year age is not valid. you cannot apply for the exam\")\n",
    "except dobException as e:\n",
    "    print(e)\n",
    "else:\n",
    "    print(\"try block ran succussfully\")\n",
    "finally:\n",
    "    print(\"program ended\")\n",
    "    \n",
    "\n"
   ]
  },
  {
   "cell_type": "code",
   "execution_count": null,
   "id": "8eb61750",
   "metadata": {},
   "outputs": [],
   "source": [
    "# ques5- custom exception - are user-defined exceptions\n",
    "# it is created to avoid error free abnormal output from program point of view\n",
    "# the user-defined exception handling process needs to have a user-defined class representing the exception to be created\n",
    "# this class inherits the Exception class"
   ]
  },
  {
   "cell_type": "code",
   "execution_count": 9,
   "id": "60eb516c",
   "metadata": {},
   "outputs": [
    {
     "name": "stdout",
     "output_type": "stream",
     "text": [
      "Enter your age50\n",
      "the year age is not valid. you cannot apply for the exam\n"
     ]
    }
   ],
   "source": [
    "# example\n",
    "\n",
    "class Errorclass(Exception):\n",
    "    def __init__(self , msg):\n",
    "        self.msg = msg\n",
    "\n",
    "class dobException(Errorclass):\n",
    "    pass\n",
    "\n",
    "age = int(input(\"Enter your age\"))\n",
    "\n",
    "try:\n",
    "    if age <= 30 and age >= 20:\n",
    "        print(\"the age is valid\")\n",
    "    else :\n",
    "        raise dobException(\"the year age is not valid. you cannot apply for the exam\")\n",
    "except dobException as e:\n",
    "    print(e)\n",
    "    "
   ]
  },
  {
   "cell_type": "code",
   "execution_count": 13,
   "id": "484316f0",
   "metadata": {},
   "outputs": [
    {
     "name": "stdout",
     "output_type": "stream",
     "text": [
      "enter a wordyky\n",
      "no vowel\n"
     ]
    }
   ],
   "source": [
    "# ques\n",
    "# error if a vowel occur\n",
    "class error(Exception):\n",
    "    def __init__(self , msg):\n",
    "        self.msg = msg\n",
    "word = input(\"enter a word\")\n",
    "try:\n",
    "    for i in word:\n",
    "        if i =='a':\n",
    "            raise error(\"a has occurred\")\n",
    "        elif i == 'e':\n",
    "            raise error(\"e  has occurred\")\n",
    "        elif i == 'i':\n",
    "            raise error(\"i  has occurred\")\n",
    "        elif i == 'o':\n",
    "            raise error(\"o  has occurred\")\n",
    "        elif i == 'u':\n",
    "            raise error(\"u  has occurred\")\n",
    "        else:\n",
    "            pass\n",
    "    print(\"no vowel\")\n",
    "except error as e:\n",
    "    print(e)\n"
   ]
  },
  {
   "cell_type": "code",
   "execution_count": null,
   "id": "f75b6848",
   "metadata": {},
   "outputs": [],
   "source": []
  }
 ],
 "metadata": {
  "kernelspec": {
   "display_name": "Python 3 (ipykernel)",
   "language": "python",
   "name": "python3"
  },
  "language_info": {
   "codemirror_mode": {
    "name": "ipython",
    "version": 3
   },
   "file_extension": ".py",
   "mimetype": "text/x-python",
   "name": "python",
   "nbconvert_exporter": "python",
   "pygments_lexer": "ipython3",
   "version": "3.9.12"
  }
 },
 "nbformat": 4,
 "nbformat_minor": 5
}
